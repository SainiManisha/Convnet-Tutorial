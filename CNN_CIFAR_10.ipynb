{
  "nbformat": 4,
  "nbformat_minor": 0,
  "metadata": {
    "colab": {
      "name": "CNN_CIFAR-10",
      "provenance": [],
      "collapsed_sections": [],
      "include_colab_link": true
    },
    "kernelspec": {
      "name": "python3",
      "display_name": "Python 3"
    },
    "accelerator": "GPU"
  },
  "cells": [
    {
      "cell_type": "markdown",
      "metadata": {
        "id": "view-in-github",
        "colab_type": "text"
      },
      "source": [
        "<a href=\"https://colab.research.google.com/github/SainiManisha/convnet-tutorial/blob/master/CNN_CIFAR_10.ipynb\" target=\"_parent\"><img src=\"https://colab.research.google.com/assets/colab-badge.svg\" alt=\"Open In Colab\"/></a>"
      ]
    },
    {
      "cell_type": "markdown",
      "metadata": {
        "id": "f5W4n80c-RWS",
        "colab_type": "text"
      },
      "source": [
        "**Import the Library and Packages**"
      ]
    },
    {
      "cell_type": "code",
      "metadata": {
        "id": "G6T8H9Cp-UEy",
        "colab_type": "code",
        "colab": {}
      },
      "source": [
        "import matplotlib.pyplot as plt\n",
        "import numpy as np"
      ],
      "execution_count": 0,
      "outputs": []
    },
    {
      "cell_type": "markdown",
      "metadata": {
        "id": "1x7ovD1O-bNR",
        "colab_type": "text"
      },
      "source": [
        "**Import Dataset**"
      ]
    },
    {
      "cell_type": "code",
      "metadata": {
        "id": "AFsn2WbEAxQ_",
        "colab_type": "code",
        "colab": {
          "base_uri": "https://localhost:8080/",
          "height": 52
        },
        "outputId": "62a23644-bd0a-46a5-ea43-004833932c40"
      },
      "source": [
        "from tensorflow.keras.datasets import cifar10\n",
        "from tensorflow.keras.utils import to_categorical\n",
        "(train_images, train_labels), (test_images, test_labels) = cifar10.load_data()"
      ],
      "execution_count": 0,
      "outputs": [
        {
          "output_type": "stream",
          "text": [
            "Downloading data from https://www.cs.toronto.edu/~kriz/cifar-10-python.tar.gz\n",
            "170500096/170498071 [==============================] - 4s 0us/step\n"
          ],
          "name": "stdout"
        }
      ]
    },
    {
      "cell_type": "code",
      "metadata": {
        "id": "x8bB_-46BCaX",
        "colab_type": "code",
        "outputId": "0ca647c4-6d49-43dc-ba8d-88b96704abd6",
        "colab": {
          "base_uri": "https://localhost:8080/",
          "height": 52
        }
      },
      "source": [
        "print('train_images shape',train_images.shape)\n",
        "print('train_labels shape',train_labels.shape)"
      ],
      "execution_count": 0,
      "outputs": [
        {
          "output_type": "stream",
          "text": [
            "train_images shape (50000, 32, 32, 3)\n",
            "train_labels shape (50000, 1)\n"
          ],
          "name": "stdout"
        }
      ]
    },
    {
      "cell_type": "code",
      "metadata": {
        "id": "QO7t8v0CB83I",
        "colab_type": "code",
        "outputId": "93c87013-7670-4209-c7bd-e7134677c7b9",
        "colab": {
          "base_uri": "https://localhost:8080/",
          "height": 52
        }
      },
      "source": [
        "print('test_images shape',test_images.shape)\n",
        "print('test_labels shape',test_labels.shape)"
      ],
      "execution_count": 0,
      "outputs": [
        {
          "output_type": "stream",
          "text": [
            "test_images shape (10000, 32, 32, 3)\n",
            "test_labels shape (10000, 1)\n"
          ],
          "name": "stdout"
        }
      ]
    },
    {
      "cell_type": "markdown",
      "metadata": {
        "id": "enDFWzyK-n9F",
        "colab_type": "text"
      },
      "source": [
        "**Normalize the Data**"
      ]
    },
    {
      "cell_type": "code",
      "metadata": {
        "id": "11f4cXNDA9vi",
        "colab_type": "code",
        "colab": {}
      },
      "source": [
        "train_images = train_images.astype('float32') / 255\n",
        "test_images = test_images.astype('float32') / 255"
      ],
      "execution_count": 0,
      "outputs": []
    },
    {
      "cell_type": "code",
      "metadata": {
        "id": "HtlDffjPCKIO",
        "colab_type": "code",
        "outputId": "743fdb59-4147-43a7-a15f-c0383bd49ce1",
        "colab": {
          "base_uri": "https://localhost:8080/",
          "height": 52
        }
      },
      "source": [
        "print('train_images shape',train_images.shape)\n",
        "print('test_images shape',test_images.shape)"
      ],
      "execution_count": 0,
      "outputs": [
        {
          "output_type": "stream",
          "text": [
            "train_images shape (50000, 32, 32, 3)\n",
            "test_images shape (10000, 32, 32, 3)\n"
          ],
          "name": "stdout"
        }
      ]
    },
    {
      "cell_type": "markdown",
      "metadata": {
        "id": "Ay8HZuQP-u_9",
        "colab_type": "text"
      },
      "source": [
        "**Change the class Label using one hot encoding**"
      ]
    },
    {
      "cell_type": "code",
      "metadata": {
        "id": "2IO0AE5MCdYW",
        "colab_type": "code",
        "colab": {}
      },
      "source": [
        "train_labels = to_categorical(train_labels)\n",
        "test_labels = to_categorical(test_labels)"
      ],
      "execution_count": 0,
      "outputs": []
    },
    {
      "cell_type": "code",
      "metadata": {
        "id": "KdTywQrDCgel",
        "colab_type": "code",
        "outputId": "6fb93fbc-32e9-4cdf-de28-7dfc42c66db4",
        "colab": {
          "base_uri": "https://localhost:8080/",
          "height": 52
        }
      },
      "source": [
        "print('train_images shape',train_labels.shape)\n",
        "print('test_images shape',test_labels.shape)"
      ],
      "execution_count": 0,
      "outputs": [
        {
          "output_type": "stream",
          "text": [
            "train_images shape (50000, 10)\n",
            "test_images shape (10000, 10)\n"
          ],
          "name": "stdout"
        }
      ]
    },
    {
      "cell_type": "code",
      "metadata": {
        "id": "X8E8yWGDCvSW",
        "colab_type": "code",
        "outputId": "f0675f60-6813-4f9e-f95c-8e830aee428d",
        "colab": {
          "base_uri": "https://localhost:8080/",
          "height": 260
        }
      },
      "source": [
        "print(train_labels)\n",
        "print(test_labels)"
      ],
      "execution_count": 0,
      "outputs": [
        {
          "output_type": "stream",
          "text": [
            "[[0. 0. 0. ... 0. 0. 0.]\n",
            " [0. 0. 0. ... 0. 0. 1.]\n",
            " [0. 0. 0. ... 0. 0. 1.]\n",
            " ...\n",
            " [0. 0. 0. ... 0. 0. 1.]\n",
            " [0. 1. 0. ... 0. 0. 0.]\n",
            " [0. 1. 0. ... 0. 0. 0.]]\n",
            "[[0. 0. 0. ... 0. 0. 0.]\n",
            " [0. 0. 0. ... 0. 1. 0.]\n",
            " [0. 0. 0. ... 0. 1. 0.]\n",
            " ...\n",
            " [0. 0. 0. ... 0. 0. 0.]\n",
            " [0. 1. 0. ... 0. 0. 0.]\n",
            " [0. 0. 0. ... 1. 0. 0.]]\n"
          ],
          "name": "stdout"
        }
      ]
    },
    {
      "cell_type": "markdown",
      "metadata": {
        "id": "QeL4SX_u-zf_",
        "colab_type": "text"
      },
      "source": [
        "**Build the model for feature extraction**"
      ]
    },
    {
      "cell_type": "code",
      "metadata": {
        "id": "zBFPWDsoC4ct",
        "colab_type": "code",
        "colab": {}
      },
      "source": [
        "from tensorflow.keras import layers\n",
        "from tensorflow.keras import models\n",
        "\n",
        "model = models.Sequential()\n",
        "model.add(layers.Conv2D(32, (3, 3), \n",
        "                        activation='relu', \n",
        "                        name='C1',\n",
        "                        input_shape=(32, 32, 3)))\n",
        "model.add(layers.MaxPooling2D((2, 2), \n",
        "                              name='M2'))\n",
        "model.add(layers.Conv2D(64, (3, 3), \n",
        "                        name='C3', activation='relu'))\n",
        "model.add(layers.MaxPooling2D((2, 2), name='M4'))\n",
        "model.add(layers.Conv2D(64, (3, 3), \n",
        "                        activation='relu', name='C5'))"
      ],
      "execution_count": 0,
      "outputs": []
    },
    {
      "cell_type": "code",
      "metadata": {
        "id": "FR3MCkxzDCA6",
        "colab_type": "code",
        "outputId": "4af43cf9-1253-42cf-a3fc-cbb406847cb5",
        "colab": {
          "base_uri": "https://localhost:8080/",
          "height": 329
        }
      },
      "source": [
        "model.summary()"
      ],
      "execution_count": 0,
      "outputs": [
        {
          "output_type": "stream",
          "text": [
            "Model: \"sequential\"\n",
            "_________________________________________________________________\n",
            "Layer (type)                 Output Shape              Param #   \n",
            "=================================================================\n",
            "C1 (Conv2D)                  (None, 30, 30, 32)        896       \n",
            "_________________________________________________________________\n",
            "M2 (MaxPooling2D)            (None, 15, 15, 32)        0         \n",
            "_________________________________________________________________\n",
            "C3 (Conv2D)                  (None, 13, 13, 64)        18496     \n",
            "_________________________________________________________________\n",
            "M4 (MaxPooling2D)            (None, 6, 6, 64)          0         \n",
            "_________________________________________________________________\n",
            "C5 (Conv2D)                  (None, 4, 4, 64)          36928     \n",
            "=================================================================\n",
            "Total params: 56,320\n",
            "Trainable params: 56,320\n",
            "Non-trainable params: 0\n",
            "_________________________________________________________________\n"
          ],
          "name": "stdout"
        }
      ]
    },
    {
      "cell_type": "markdown",
      "metadata": {
        "id": "M0dTYHrMV3FG",
        "colab_type": "text"
      },
      "source": [
        "![CIFAR 10 CNN](https://github.com/SainiManisha/convnet-tutorial/blob/master/cs2.jpg?raw=true)"
      ]
    },
    {
      "cell_type": "markdown",
      "metadata": {
        "id": "4NgTuI-1_AaV",
        "colab_type": "text"
      },
      "source": [
        "**Adding a classifier on top of the convnet**\n",
        "\n"
      ]
    },
    {
      "cell_type": "code",
      "metadata": {
        "id": "u-SHkt4XDFWT",
        "colab_type": "code",
        "colab": {}
      },
      "source": [
        "model.add(layers.Flatten(name='F6'))\n",
        "model.add(layers.Dense(64, activation='relu', name='FC7'))\n",
        "model.add(layers.Dense(10, activation='softmax', name='FC8'))"
      ],
      "execution_count": 0,
      "outputs": []
    },
    {
      "cell_type": "code",
      "metadata": {
        "id": "JDPVcfJtDHvZ",
        "colab_type": "code",
        "outputId": "d31ff0f3-90ef-4883-d330-85ee32ea4bc7",
        "colab": {
          "base_uri": "https://localhost:8080/",
          "height": 433
        }
      },
      "source": [
        "model.summary()"
      ],
      "execution_count": 0,
      "outputs": [
        {
          "output_type": "stream",
          "text": [
            "Model: \"sequential\"\n",
            "_________________________________________________________________\n",
            "Layer (type)                 Output Shape              Param #   \n",
            "=================================================================\n",
            "C1 (Conv2D)                  (None, 30, 30, 32)        896       \n",
            "_________________________________________________________________\n",
            "M2 (MaxPooling2D)            (None, 15, 15, 32)        0         \n",
            "_________________________________________________________________\n",
            "C3 (Conv2D)                  (None, 13, 13, 64)        18496     \n",
            "_________________________________________________________________\n",
            "M4 (MaxPooling2D)            (None, 6, 6, 64)          0         \n",
            "_________________________________________________________________\n",
            "C5 (Conv2D)                  (None, 4, 4, 64)          36928     \n",
            "_________________________________________________________________\n",
            "F6 (Flatten)                 (None, 1024)              0         \n",
            "_________________________________________________________________\n",
            "FC7 (Dense)                  (None, 64)                65600     \n",
            "_________________________________________________________________\n",
            "FC8 (Dense)                  (None, 10)                650       \n",
            "=================================================================\n",
            "Total params: 122,570\n",
            "Trainable params: 122,570\n",
            "Non-trainable params: 0\n",
            "_________________________________________________________________\n"
          ],
          "name": "stdout"
        }
      ]
    },
    {
      "cell_type": "markdown",
      "metadata": {
        "id": "kwGMyIqB_TgX",
        "colab_type": "text"
      },
      "source": [
        "**Compile and run the Model**"
      ]
    },
    {
      "cell_type": "code",
      "metadata": {
        "id": "kNTgvuW5DLpL",
        "colab_type": "code",
        "colab": {}
      },
      "source": [
        "model.compile(optimizer='sgd',\n",
        "              loss='categorical_crossentropy',\n",
        "              metrics=['accuracy'])"
      ],
      "execution_count": 0,
      "outputs": []
    },
    {
      "cell_type": "code",
      "metadata": {
        "id": "OABgh07MDT6H",
        "colab_type": "code",
        "outputId": "10075319-a3c0-4125-bd9d-b7f902a4bb37",
        "colab": {
          "base_uri": "https://localhost:8080/",
          "height": 364
        }
      },
      "source": [
        "history = model.fit(train_images, train_labels, epochs=10, batch_size=128)"
      ],
      "execution_count": 0,
      "outputs": [
        {
          "output_type": "stream",
          "text": [
            "Epoch 1/10\n",
            "391/391 [==============================] - 2s 5ms/step - loss: 2.2711 - accuracy: 0.1515\n",
            "Epoch 2/10\n",
            "391/391 [==============================] - 2s 4ms/step - loss: 2.0755 - accuracy: 0.2436\n",
            "Epoch 3/10\n",
            "391/391 [==============================] - 2s 4ms/step - loss: 1.9566 - accuracy: 0.2928\n",
            "Epoch 4/10\n",
            "391/391 [==============================] - 2s 4ms/step - loss: 1.8727 - accuracy: 0.3275\n",
            "Epoch 5/10\n",
            "391/391 [==============================] - 2s 4ms/step - loss: 1.7797 - accuracy: 0.3633\n",
            "Epoch 6/10\n",
            "391/391 [==============================] - 2s 4ms/step - loss: 1.6834 - accuracy: 0.3962\n",
            "Epoch 7/10\n",
            "391/391 [==============================] - 2s 4ms/step - loss: 1.6101 - accuracy: 0.4237\n",
            "Epoch 8/10\n",
            "391/391 [==============================] - 2s 4ms/step - loss: 1.5549 - accuracy: 0.4445\n",
            "Epoch 9/10\n",
            "391/391 [==============================] - 2s 4ms/step - loss: 1.5065 - accuracy: 0.4610\n",
            "Epoch 10/10\n",
            "391/391 [==============================] - 2s 4ms/step - loss: 1.4668 - accuracy: 0.4748\n"
          ],
          "name": "stdout"
        }
      ]
    },
    {
      "cell_type": "markdown",
      "metadata": {
        "id": "56_3npKv_4hJ",
        "colab_type": "text"
      },
      "source": [
        "**Evaluate the Model**"
      ]
    },
    {
      "cell_type": "code",
      "metadata": {
        "id": "69HP6_UjH-8K",
        "colab_type": "code",
        "outputId": "b7e4aa0a-541e-4ee8-db88-7494bb23c186",
        "colab": {
          "base_uri": "https://localhost:8080/",
          "height": 34
        }
      },
      "source": [
        "test_loss, test_acc = model.evaluate(test_images, test_labels, verbose=0)\n",
        "test_acc"
      ],
      "execution_count": 0,
      "outputs": [
        {
          "output_type": "execute_result",
          "data": {
            "text/plain": [
              "0.48500001430511475"
            ]
          },
          "metadata": {
            "tags": []
          },
          "execution_count": 15
        }
      ]
    },
    {
      "cell_type": "markdown",
      "metadata": {
        "id": "aF725EqtACjv",
        "colab_type": "text"
      },
      "source": [
        "**To improve the accuracy create the second Model1**"
      ]
    },
    {
      "cell_type": "code",
      "metadata": {
        "id": "LipKvZdy7RHO",
        "colab_type": "code",
        "colab": {}
      },
      "source": [
        "from tensorflow.keras import layers\n",
        "from tensorflow.keras import models\n",
        "\n",
        "model1 = models.Sequential()\n",
        "model1.add(layers.Conv2D(32, (3, 3), \n",
        "                        activation='relu', \n",
        "                        name='C1',\n",
        "                        input_shape=(32, 32, 3)))\n",
        "model1.add(layers.MaxPooling2D((2, 2), \n",
        "                              name='M2'))\n",
        "model1.add(layers.Conv2D(64, (3, 3), \n",
        "                        name='C3', activation='relu'))\n",
        "model1.add(layers.MaxPooling2D((2, 2), name='M4'))\n",
        "model1.add(layers.Conv2D(64, (3, 3), \n",
        "                        activation='relu', name='C5'))\n",
        "\n",
        "model1.add(layers.Flatten(name='F6'))\n",
        "model1.add(layers.Dense(64, activation='relu', name='FC7'))\n",
        "model1.add(layers.Dense(10, activation='softmax', name='FC8'))"
      ],
      "execution_count": 0,
      "outputs": []
    },
    {
      "cell_type": "markdown",
      "metadata": {
        "id": "jiSESfLzAMHP",
        "colab_type": "text"
      },
      "source": [
        "**Compile  and train the Model1**"
      ]
    },
    {
      "cell_type": "code",
      "metadata": {
        "id": "ypitk6yq7q1H",
        "colab_type": "code",
        "colab": {}
      },
      "source": [
        "model1.compile(optimizer='adam',\n",
        "              loss='categorical_crossentropy',\n",
        "              metrics=['accuracy'])"
      ],
      "execution_count": 0,
      "outputs": []
    },
    {
      "cell_type": "code",
      "metadata": {
        "id": "EiC5c9kY74Wk",
        "colab_type": "code",
        "outputId": "9f78a267-fba8-4b98-e7e8-e60af2d670ec",
        "colab": {
          "base_uri": "https://localhost:8080/",
          "height": 364
        }
      },
      "source": [
        "history1 = model1.fit(train_images, train_labels, epochs=10, batch_size=128, validation_split=0.3)"
      ],
      "execution_count": 0,
      "outputs": [
        {
          "output_type": "stream",
          "text": [
            "Epoch 1/10\n",
            "274/274 [==============================] - 2s 7ms/step - loss: 1.7591 - accuracy: 0.3512 - val_loss: 1.5133 - val_accuracy: 0.4515\n",
            "Epoch 2/10\n",
            "274/274 [==============================] - 2s 6ms/step - loss: 1.4150 - accuracy: 0.4881 - val_loss: 1.3803 - val_accuracy: 0.5017\n",
            "Epoch 3/10\n",
            "274/274 [==============================] - 2s 6ms/step - loss: 1.2760 - accuracy: 0.5443 - val_loss: 1.2776 - val_accuracy: 0.5401\n",
            "Epoch 4/10\n",
            "274/274 [==============================] - 2s 6ms/step - loss: 1.1784 - accuracy: 0.5823 - val_loss: 1.2461 - val_accuracy: 0.5612\n",
            "Epoch 5/10\n",
            "274/274 [==============================] - 2s 6ms/step - loss: 1.1109 - accuracy: 0.6068 - val_loss: 1.1603 - val_accuracy: 0.5909\n",
            "Epoch 6/10\n",
            "274/274 [==============================] - 2s 6ms/step - loss: 1.0470 - accuracy: 0.6323 - val_loss: 1.1158 - val_accuracy: 0.6057\n",
            "Epoch 7/10\n",
            "274/274 [==============================] - 2s 6ms/step - loss: 0.9994 - accuracy: 0.6478 - val_loss: 1.0812 - val_accuracy: 0.6207\n",
            "Epoch 8/10\n",
            "274/274 [==============================] - 2s 6ms/step - loss: 0.9601 - accuracy: 0.6654 - val_loss: 1.0304 - val_accuracy: 0.6365\n",
            "Epoch 9/10\n",
            "274/274 [==============================] - 2s 6ms/step - loss: 0.9178 - accuracy: 0.6788 - val_loss: 1.0285 - val_accuracy: 0.6411\n",
            "Epoch 10/10\n",
            "274/274 [==============================] - 2s 6ms/step - loss: 0.8847 - accuracy: 0.6899 - val_loss: 1.0113 - val_accuracy: 0.6547\n"
          ],
          "name": "stdout"
        }
      ]
    },
    {
      "cell_type": "markdown",
      "metadata": {
        "id": "ohu6sg4lAStx",
        "colab_type": "text"
      },
      "source": [
        "**Evalauate the Model1**"
      ]
    },
    {
      "cell_type": "code",
      "metadata": {
        "id": "BjJgPh1x8Vmq",
        "colab_type": "code",
        "outputId": "0d233c42-1eea-498e-8117-d27e918f4701",
        "colab": {
          "base_uri": "https://localhost:8080/",
          "height": 34
        }
      },
      "source": [
        "test_loss, test_acc = model1.evaluate(test_images, test_labels, verbose=0)\n",
        "test_acc"
      ],
      "execution_count": 0,
      "outputs": [
        {
          "output_type": "execute_result",
          "data": {
            "text/plain": [
              "0.6552000045776367"
            ]
          },
          "metadata": {
            "tags": []
          },
          "execution_count": 19
        }
      ]
    },
    {
      "cell_type": "markdown",
      "metadata": {
        "id": "K-NZE6UAAWla",
        "colab_type": "text"
      },
      "source": [
        "**Plot the Graph of Accuracy and Loss in case of Model1**\n",
        "\n",
        "\n",
        "\n"
      ]
    },
    {
      "cell_type": "code",
      "metadata": {
        "id": "X_6H6EnqCPZn",
        "colab_type": "code",
        "outputId": "2546af14-446f-41bb-ba9b-883fa3d0de51",
        "colab": {
          "base_uri": "https://localhost:8080/",
          "height": 294
        }
      },
      "source": [
        "import matplotlib.pyplot as plt\n",
        "plt.plot(history1.history['accuracy'])\n",
        "plt.plot(history1.history['val_accuracy'])\n",
        "plt.xlabel('Epoch')\n",
        "plt.ylabel('Accuracy')\n",
        "plt.title('Model Accuracy')\n",
        "plt.legend(['Train', 'Val'],loc='lower right')\n",
        "plt.show()"
      ],
      "execution_count": 0,
      "outputs": [
        {
          "output_type": "display_data",
          "data": {
            "image/png": "[encoded data removed]",
            "text/plain": [
              "<Figure size 432x288 with 1 Axes>"
            ]
          },
          "metadata": {
            "tags": [],
            "needs_background": "light"
          }
        }
      ]
    },
    {
      "cell_type": "code",
      "metadata": {
        "id": "OFdiNSjTDtLo",
        "colab_type": "code",
        "outputId": "ec5fe476-60de-4478-d12d-ca74e3f56c4b",
        "colab": {
          "base_uri": "https://localhost:8080/",
          "height": 294
        }
      },
      "source": [
        "import matplotlib.pyplot as plt\n",
        "plt.plot(history1.history['loss'])\n",
        "plt.plot(history1.history['val_loss'])\n",
        "plt.xlabel('Epoch')\n",
        "plt.ylabel('Loss')\n",
        "plt.title('Model loss')\n",
        "plt.legend(['Train','val'], loc='lower right')\n",
        "plt.show()"
      ],
      "execution_count": 0,
      "outputs": [
        {
          "output_type": "display_data",
          "data": {
            "image/png": "[encoded data removed]",
            "text/plain": [
              "<Figure size 432x288 with 1 Axes>"
            ]
          },
          "metadata": {
            "tags": [],
            "needs_background": "light"
          }
        }
      ]
    },
    {
      "cell_type": "code",
      "metadata": {
        "id": "3kp0URpOfDI5",
        "colab_type": "code",
        "outputId": "6425a564-8317-492f-9a0f-1ffb3a8864df",
        "colab": {
          "base_uri": "https://localhost:8080/",
          "height": 34
        }
      },
      "source": [
        "test_images_ss = test_images[:25]\n",
        "test_images_ss.shape"
      ],
      "execution_count": 0,
      "outputs": [
        {
          "output_type": "execute_result",
          "data": {
            "text/plain": [
              "(25, 32, 32, 3)"
            ]
          },
          "metadata": {
            "tags": []
          },
          "execution_count": 22
        }
      ]
    },
    {
      "cell_type": "markdown",
      "metadata": {
        "id": "XNbhqbrCCW0N",
        "colab_type": "text"
      },
      "source": [
        "**Save the Model for re-use**"
      ]
    },
    {
      "cell_type": "code",
      "metadata": {
        "id": "f64xEeIDCUOE",
        "colab_type": "code",
        "colab": {}
      },
      "source": [
        "model.save('cifar_model.h5')"
      ],
      "execution_count": 0,
      "outputs": []
    },
    {
      "cell_type": "markdown",
      "metadata": {
        "id": "KupwvaQPCkzC",
        "colab_type": "text"
      },
      "source": [
        "**Re-use the saved Model**"
      ]
    },
    {
      "cell_type": "code",
      "metadata": {
        "id": "x2RV2SGZCjjo",
        "colab_type": "code",
        "outputId": "715feb85-8ab9-4afb-f974-cb105cff5459",
        "colab": {
          "base_uri": "https://localhost:8080/",
          "height": 433
        }
      },
      "source": [
        "from tensorflow.keras.models import load_model\n",
        "model = load_model('cifar_model.h5')\n",
        "model.summary()"
      ],
      "execution_count": 0,
      "outputs": [
        {
          "output_type": "stream",
          "text": [
            "Model: \"sequential\"\n",
            "_________________________________________________________________\n",
            "Layer (type)                 Output Shape              Param #   \n",
            "=================================================================\n",
            "C1 (Conv2D)                  (None, 30, 30, 32)        896       \n",
            "_________________________________________________________________\n",
            "M2 (MaxPooling2D)            (None, 15, 15, 32)        0         \n",
            "_________________________________________________________________\n",
            "C3 (Conv2D)                  (None, 13, 13, 64)        18496     \n",
            "_________________________________________________________________\n",
            "M4 (MaxPooling2D)            (None, 6, 6, 64)          0         \n",
            "_________________________________________________________________\n",
            "C5 (Conv2D)                  (None, 4, 4, 64)          36928     \n",
            "_________________________________________________________________\n",
            "F6 (Flatten)                 (None, 1024)              0         \n",
            "_________________________________________________________________\n",
            "FC7 (Dense)                  (None, 64)                65600     \n",
            "_________________________________________________________________\n",
            "FC8 (Dense)                  (None, 10)                650       \n",
            "=================================================================\n",
            "Total params: 122,570\n",
            "Trainable params: 122,570\n",
            "Non-trainable params: 0\n",
            "_________________________________________________________________\n"
          ],
          "name": "stdout"
        }
      ]
    },
    {
      "cell_type": "code",
      "metadata": {
        "id": "ou9iyX5Mi5Uq",
        "colab_type": "code",
        "outputId": "aa460ea4-2f2c-482e-ebb0-b54678c5d672",
        "colab": {
          "base_uri": "https://localhost:8080/",
          "height": 104
        }
      },
      "source": [
        "from tensorflow.keras import models\n",
        "layer_outputs = [layer.output for layer in model.layers[:5]]\n",
        "activation_model = models.Model(inputs=model.input, outputs=layer_outputs)\n",
        "activation_model.outputs"
      ],
      "execution_count": 0,
      "outputs": [
        {
          "output_type": "execute_result",
          "data": {
            "text/plain": [
              "[<tf.Tensor 'C1_2/Identity:0' shape=(None, 30, 30, 32) dtype=float32>,\n",
              " <tf.Tensor 'M2_2/Identity:0' shape=(None, 15, 15, 32) dtype=float32>,\n",
              " <tf.Tensor 'C3_2/Identity:0' shape=(None, 13, 13, 64) dtype=float32>,\n",
              " <tf.Tensor 'M4_2/Identity:0' shape=(None, 6, 6, 64) dtype=float32>,\n",
              " <tf.Tensor 'C5_2/Identity:0' shape=(None, 4, 4, 64) dtype=float32>]"
            ]
          },
          "metadata": {
            "tags": []
          },
          "execution_count": 25
        }
      ]
    },
    {
      "cell_type": "code",
      "metadata": {
        "id": "ug1NagZJi36g",
        "colab_type": "code",
        "outputId": "509a7021-875e-4664-e920-32bc141d01b5",
        "colab": {
          "base_uri": "https://localhost:8080/",
          "height": 182
        }
      },
      "source": [
        "sample_test_image = np.expand_dims(train_images[10], axis=0)\n",
        "sample_test_image.shape"
      ],
      "execution_count": 26,
      "outputs": [
        {
          "output_type": "error",
          "ename": "NameError",
          "evalue": "ignored",
          "traceback": [
            "\u001b[0;31m---------------------------------------------------------------------------\u001b[0m",
            "\u001b[0;31mNameError\u001b[0m                                 Traceback (most recent call last)",
            "\u001b[0;32m<ipython-input-26-b5825566e6e5>\u001b[0m in \u001b[0;36m<module>\u001b[0;34m()\u001b[0m\n\u001b[0;32m----> 1\u001b[0;31m \u001b[0msample_test_image\u001b[0m \u001b[0;34m=\u001b[0m \u001b[0mnp\u001b[0m\u001b[0;34m.\u001b[0m\u001b[0mexpand_dims\u001b[0m\u001b[0;34m(\u001b[0m\u001b[0mtrain_images\u001b[0m\u001b[0;34m[\u001b[0m\u001b[0;36m10\u001b[0m\u001b[0;34m]\u001b[0m\u001b[0;34m,\u001b[0m \u001b[0maxis\u001b[0m\u001b[0;34m=\u001b[0m\u001b[0;36m0\u001b[0m\u001b[0;34m)\u001b[0m\u001b[0;34m\u001b[0m\u001b[0;34m\u001b[0m\u001b[0m\n\u001b[0m\u001b[1;32m      2\u001b[0m \u001b[0msample_test_image\u001b[0m\u001b[0;34m.\u001b[0m\u001b[0mshape\u001b[0m\u001b[0;34m\u001b[0m\u001b[0;34m\u001b[0m\u001b[0m\n",
            "\u001b[0;31mNameError\u001b[0m: name 'np' is not defined"
          ]
        }
      ]
    },
    {
      "cell_type": "code",
      "metadata": {
        "id": "mvaB3xV_i1jm",
        "colab_type": "code",
        "colab": {}
      },
      "source": [
        "activations = activation_model.predict(sample_test_image)\n",
        "len(activations)"
      ],
      "execution_count": 0,
      "outputs": []
    },
    {
      "cell_type": "code",
      "metadata": {
        "id": "BxNuzZ2ui0I6",
        "colab_type": "code",
        "colab": {}
      },
      "source": [
        "layer_names = [layer.name for layer in model.layers[:5]]\n",
        "layer_names"
      ],
      "execution_count": 0,
      "outputs": []
    },
    {
      "cell_type": "code",
      "metadata": {
        "id": "Kpl8fagxizcW",
        "colab_type": "code",
        "colab": {}
      },
      "source": [
        "col_size = 16\n",
        "\n",
        "for layer_name, activation in zip(layer_names, activations):\n",
        "    max_val = activation.max()\n",
        "    activation /= max_val\n",
        "\n",
        "    num_filters = activation.shape[-1]\n",
        "    row_size = num_filters / col_size\n",
        "\n",
        "    print(\"\\n\" * 2)\n",
        "    print(layer_name)\n",
        "    plt.figure(figsize=[col_size * 2, row_size * 2])\n",
        "    for index in range(num_filters):\n",
        "        plt.subplot(row_size, col_size, index + 1)\n",
        "        plt.imshow(activation[0, :, :, index])\n",
        "        plt.axis(\"off\")\n",
        "    plt.show()"
      ],
      "execution_count": 0,
      "outputs": []
    },
    {
      "cell_type": "markdown",
      "metadata": {
        "id": "fGluoM9XAfVE",
        "colab_type": "text"
      },
      "source": [
        "**Predict the class label of the test Images**"
      ]
    },
    {
      "cell_type": "code",
      "metadata": {
        "id": "GAw7WrjnunFg",
        "colab_type": "code",
        "colab": {}
      },
      "source": [
        "cifar_labels = ['airplane', 'automobile', 'bird', 'cat',\n",
        "    'deer', 'dog', 'frog', 'horse', 'ship', 'truck']"
      ],
      "execution_count": 0,
      "outputs": []
    },
    {
      "cell_type": "code",
      "metadata": {
        "id": "n72jCwjyRMH-",
        "colab_type": "code",
        "colab": {}
      },
      "source": [
        "i = 0\n",
        "\n",
        "plt.figure(figsize=[8, 8])\t\n",
        "\n",
        "predicted = model1.predict(test_images_ss)\n",
        "\n",
        "for\t(image,\tlabel) in zip(test_images_ss, predicted):\t\n",
        "\tlabel = np.argmax(label)\n",
        "\tplt.subplot(5, 5, i + 1)\n",
        "\tplt.xticks([])\n",
        "\tplt.yticks([])\n",
        "\tplt.grid(False)\n",
        "\tplt.imshow(image, cmap=plt.cm.binary)\n",
        "\tplt.xlabel(cifar_labels[label])\n",
        "\ti += 1\n",
        "plt.suptitle(\"Predicted Images\")\n",
        "plt.show()"
      ],
      "execution_count": 0,
      "outputs": []
    },
    {
      "cell_type": "markdown",
      "metadata": {
        "id": "iNEj6EAxDlNM",
        "colab_type": "text"
      },
      "source": [
        "**Confusion Matrix**"
      ]
    },
    {
      "cell_type": "code",
      "metadata": {
        "id": "vmi29Jp4bkYU",
        "colab_type": "code",
        "colab": {}
      },
      "source": [
        "!pip install scikit-plot"
      ],
      "execution_count": 0,
      "outputs": []
    },
    {
      "cell_type": "code",
      "metadata": {
        "id": "Zbl8c_mTDBjL",
        "colab_type": "code",
        "colab": {}
      },
      "source": [
        "from scikitplot.metrics import plot_confusion_matrix\n",
        "\n",
        "logits = model1.predict(test_images)\n",
        "predicted = np.argmax(logits, axis=-1)\n",
        "\n",
        "labels = np.argmax(test_labels, axis=-1)\n",
        "plot_confusion_matrix(labels, predicted)"
      ],
      "execution_count": 0,
      "outputs": []
    },
    {
      "cell_type": "code",
      "metadata": {
        "id": "uBe8Z69CvU8m",
        "colab_type": "code",
        "colab": {}
      },
      "source": [
        ""
      ],
      "execution_count": 0,
      "outputs": []
    }
  ]
}